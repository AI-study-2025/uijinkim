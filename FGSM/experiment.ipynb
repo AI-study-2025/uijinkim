{
 "cells": [
  {
   "cell_type": "code",
   "execution_count": 1,
   "metadata": {},
   "outputs": [
    {
     "name": "stderr",
     "output_type": "stream",
     "text": [
      "/home/aicontest/anaconda3/envs/seg/lib/python3.11/site-packages/torchvision/io/image.py:13: UserWarning: Failed to load image Python extension: '/ssd/data/aicontest/anaconda3/envs/seg/lib/python3.11/site-packages/torchvision/image.so: undefined symbol: _ZN3c1017RegisterOperatorsD1Ev'If you don't plan on using image functionality from `torchvision.io`, you can ignore this warning. Otherwise, there might be something wrong with your environment. Did you have `libjpeg` or `libpng` installed before building `torchvision` from source?\n",
      "  warn(\n"
     ]
    }
   ],
   "source": [
    "# 라이브러리\n",
    "import torch\n",
    "import torch.nn as nn\n",
    "import torch.optim as optim\n",
    "from torchvision import datasets, transforms\n",
    "from torch.utils.data import DataLoader\n",
    "import matplotlib.pyplot as plt"
   ]
  },
  {
   "cell_type": "code",
   "execution_count": 2,
   "metadata": {},
   "outputs": [
    {
     "name": "stdout",
     "output_type": "stream",
     "text": [
      "Downloading http://yann.lecun.com/exdb/mnist/train-images-idx3-ubyte.gz\n",
      "Failed to download (trying next):\n",
      "<urlopen error [Errno 111] Connection refused>\n",
      "\n",
      "Downloading https://ossci-datasets.s3.amazonaws.com/mnist/train-images-idx3-ubyte.gz\n",
      "Downloading https://ossci-datasets.s3.amazonaws.com/mnist/train-images-idx3-ubyte.gz to ./data/MNIST/raw/train-images-idx3-ubyte.gz\n"
     ]
    },
    {
     "name": "stderr",
     "output_type": "stream",
     "text": [
      "100%|██████████| 9912422/9912422 [00:01<00:00, 5373834.26it/s] \n"
     ]
    },
    {
     "name": "stdout",
     "output_type": "stream",
     "text": [
      "Extracting ./data/MNIST/raw/train-images-idx3-ubyte.gz to ./data/MNIST/raw\n",
      "\n",
      "Downloading http://yann.lecun.com/exdb/mnist/train-labels-idx1-ubyte.gz\n",
      "Failed to download (trying next):\n",
      "<urlopen error [Errno 111] Connection refused>\n",
      "\n",
      "Downloading https://ossci-datasets.s3.amazonaws.com/mnist/train-labels-idx1-ubyte.gz\n",
      "Downloading https://ossci-datasets.s3.amazonaws.com/mnist/train-labels-idx1-ubyte.gz to ./data/MNIST/raw/train-labels-idx1-ubyte.gz\n"
     ]
    },
    {
     "name": "stderr",
     "output_type": "stream",
     "text": [
      "100%|██████████| 28881/28881 [00:00<00:00, 158001.77it/s]\n"
     ]
    },
    {
     "name": "stdout",
     "output_type": "stream",
     "text": [
      "Extracting ./data/MNIST/raw/train-labels-idx1-ubyte.gz to ./data/MNIST/raw\n",
      "\n",
      "Downloading http://yann.lecun.com/exdb/mnist/t10k-images-idx3-ubyte.gz\n",
      "Failed to download (trying next):\n",
      "<urlopen error [Errno 111] Connection refused>\n",
      "\n",
      "Downloading https://ossci-datasets.s3.amazonaws.com/mnist/t10k-images-idx3-ubyte.gz\n",
      "Downloading https://ossci-datasets.s3.amazonaws.com/mnist/t10k-images-idx3-ubyte.gz to ./data/MNIST/raw/t10k-images-idx3-ubyte.gz\n"
     ]
    },
    {
     "name": "stderr",
     "output_type": "stream",
     "text": [
      "100%|██████████| 1648877/1648877 [00:01<00:00, 1467026.78it/s]\n"
     ]
    },
    {
     "name": "stdout",
     "output_type": "stream",
     "text": [
      "Extracting ./data/MNIST/raw/t10k-images-idx3-ubyte.gz to ./data/MNIST/raw\n",
      "\n",
      "Downloading http://yann.lecun.com/exdb/mnist/t10k-labels-idx1-ubyte.gz\n",
      "Failed to download (trying next):\n",
      "<urlopen error [Errno 111] Connection refused>\n",
      "\n",
      "Downloading https://ossci-datasets.s3.amazonaws.com/mnist/t10k-labels-idx1-ubyte.gz\n",
      "Downloading https://ossci-datasets.s3.amazonaws.com/mnist/t10k-labels-idx1-ubyte.gz to ./data/MNIST/raw/t10k-labels-idx1-ubyte.gz\n"
     ]
    },
    {
     "name": "stderr",
     "output_type": "stream",
     "text": [
      "100%|██████████| 4542/4542 [00:00<00:00, 7586829.46it/s]"
     ]
    },
    {
     "name": "stdout",
     "output_type": "stream",
     "text": [
      "Extracting ./data/MNIST/raw/t10k-labels-idx1-ubyte.gz to ./data/MNIST/raw\n",
      "\n"
     ]
    },
    {
     "name": "stderr",
     "output_type": "stream",
     "text": [
      "\n"
     ]
    }
   ],
   "source": [
    "# 데이터 셋 준비\n",
    "transform = transforms.Compose([transforms.ToTensor()])\n",
    "train_dataset = datasets.MNIST(root=\"./data\", train=True, transform=transform, download=True)\n",
    "test_dataset = datasets.MNIST(root=\"./data\", train=False, transform=transform, download=True)\n",
    "\n",
    "train_loader = DataLoader(train_dataset, batch_size=64, shuffle=True)\n",
    "test_loader = DataLoader(test_dataset, batch_size=1, shuffle=True)"
   ]
  },
  {
   "cell_type": "code",
   "execution_count": 3,
   "metadata": {},
   "outputs": [],
   "source": [
    "# CNN 모델\n",
    "class SimpleCNN(nn.Module):\n",
    "    def __init__(self):\n",
    "        super(SimpleCNN, self).__init__()\n",
    "        self.conv1 = nn.Conv2d(1, 32, kernel_size=3, stride=1, padding=1)\n",
    "        self.conv2 = nn.Conv2d(32, 64, kernel_size=3, stride=1, padding=1)\n",
    "        self.fc1 = nn.Linear(64 * 7 * 7, 128)\n",
    "        self.fc2 = nn.Linear(128, 10)\n",
    "\n",
    "    def forward(self, x):\n",
    "        x = nn.ReLU()(self.conv1(x))\n",
    "        x = nn.MaxPool2d(2)(x)\n",
    "        x = nn.ReLU()(self.conv2(x))\n",
    "        x = nn.MaxPool2d(2)(x)\n",
    "        x = x.view(x.size(0), -1)  # Flatten\n",
    "        x = nn.ReLU()(self.fc1(x))\n",
    "        x = self.fc2(x)\n",
    "        return x"
   ]
  },
  {
   "cell_type": "code",
   "execution_count": 4,
   "metadata": {},
   "outputs": [],
   "source": [
    "# 모델 초기화, 손실 함수 및 옵티마이저 설정\n",
    "device = torch.device(\"cuda\" if torch.cuda.is_available() else \"cpu\")\n",
    "model = SimpleCNN().to(device)\n",
    "criterion = nn.CrossEntropyLoss()\n",
    "optimizer = optim.Adam(model.parameters(), lr=0.001)"
   ]
  },
  {
   "cell_type": "code",
   "execution_count": 10,
   "metadata": {},
   "outputs": [
    {
     "name": "stdout",
     "output_type": "stream",
     "text": [
      "Epoch [1/20], Loss: 0.0632\n",
      "Epoch [2/20], Loss: 0.0119\n",
      "Epoch [3/20], Loss: 0.0489\n",
      "Epoch [4/20], Loss: 0.0326\n",
      "Epoch [5/20], Loss: 0.0002\n",
      "Epoch [6/20], Loss: 0.0000\n",
      "Epoch [7/20], Loss: 0.0001\n",
      "Epoch [8/20], Loss: 0.0301\n",
      "Epoch [9/20], Loss: 0.0167\n",
      "Epoch [10/20], Loss: 0.0249\n",
      "Epoch [11/20], Loss: 0.0001\n",
      "Epoch [12/20], Loss: 0.0209\n",
      "Epoch [13/20], Loss: 0.0000\n",
      "Epoch [14/20], Loss: 0.0001\n",
      "Epoch [15/20], Loss: 0.0003\n",
      "Epoch [16/20], Loss: 0.0000\n",
      "Epoch [17/20], Loss: 0.0002\n",
      "Epoch [18/20], Loss: 0.0000\n",
      "Epoch [19/20], Loss: 0.0000\n",
      "Epoch [20/20], Loss: 0.0001\n"
     ]
    }
   ],
   "source": [
    "# 모델 학습\n",
    "def train_model(model, train_loader, criterion, optimizer, epochs=1):\n",
    "    model.train()\n",
    "    for epoch in range(epochs):\n",
    "        for images, labels in train_loader:\n",
    "            images, labels = images.to(device), labels.to(device)\n",
    "            outputs = model(images)\n",
    "            loss = criterion(outputs, labels)\n",
    "            \n",
    "            optimizer.zero_grad()\n",
    "            loss.backward()\n",
    "            optimizer.step()\n",
    "        print(f\"Epoch [{epoch+1}/{epochs}], Loss: {loss.item():.4f}\")\n",
    "\n",
    "train_model(model, train_loader, criterion, optimizer, epochs=20)"
   ]
  },
  {
   "cell_type": "code",
   "execution_count": 11,
   "metadata": {},
   "outputs": [],
   "source": [
    "# FGSM 공격 함수 정의\n",
    "def fgsm_attack(image, epsilon, data_grad):\n",
    "    # FGSM: 입력 데이터를 손실 그래디언트 방향으로 변경\n",
    "    sign_data_grad = data_grad.sign()\n",
    "    perturbed_image = image + epsilon * sign_data_grad\n",
    "    perturbed_image = torch.clamp(perturbed_image, 0, 1)  # [0, 1]로 값 제한\n",
    "    return perturbed_image"
   ]
  },
  {
   "cell_type": "code",
   "execution_count": 24,
   "metadata": {},
   "outputs": [
    {
     "name": "stdout",
     "output_type": "stream",
     "text": [
      "Epoch [1/20], Loss: 0.1129\n",
      "Epoch [2/20], Loss: 0.1012\n",
      "Epoch [3/20], Loss: 0.0068\n",
      "Epoch [4/20], Loss: 0.0117\n",
      "Epoch [5/20], Loss: 0.0119\n",
      "Epoch [6/20], Loss: 0.0132\n",
      "Epoch [7/20], Loss: 0.0022\n",
      "Epoch [8/20], Loss: 0.1075\n",
      "Epoch [9/20], Loss: 0.0061\n",
      "Epoch [10/20], Loss: 0.0018\n",
      "Epoch [11/20], Loss: 0.0978\n",
      "Epoch [12/20], Loss: 0.1429\n",
      "Epoch [13/20], Loss: 0.0018\n",
      "Epoch [14/20], Loss: 0.0015\n",
      "Epoch [15/20], Loss: 0.0006\n",
      "Epoch [16/20], Loss: 0.0088\n",
      "Epoch [17/20], Loss: 0.0006\n",
      "Epoch [18/20], Loss: 0.0685\n",
      "Epoch [19/20], Loss: 0.1466\n",
      "Epoch [20/20], Loss: 0.0007\n"
     ]
    }
   ],
   "source": [
    "model_fgsm = SimpleCNN().to(device)\n",
    "optimizer_fgsm = optim.Adam(model_fgsm.parameters(), lr=0.001)\n",
    "\n",
    "# FGSM 학습 함수\n",
    "def fgsm_train_model(model, train_loader, criterion, optimizer, epochs=1):\n",
    "    model.train()\n",
    "    for epoch in range(epochs):\n",
    "        for images, labels in train_loader:\n",
    "            images, labels = images.to(device), labels.to(device)\n",
    "            images.requires_grad = True  # 그래디언트 계산을 위해 설정\n",
    "\n",
    "            # 원본 이미지로 예측\n",
    "            outputs = model(images)\n",
    "            loss = criterion(outputs, labels)\n",
    "\n",
    "            # 역전파를 통해 그래디언트 계산\n",
    "            optimizer.zero_grad()\n",
    "            loss.backward(retain_graph=True)  # 여기서 images.grad가 계산됨\n",
    "\n",
    "            # FGSM 적대적 샘플 생성\n",
    "            fgsm_image = fgsm_attack(images, epsilon=0.3, data_grad=images.grad)\n",
    "            \n",
    "            # FGSM 샘플로 예측\n",
    "            outputs_fgsm = model(fgsm_image)\n",
    "            loss_fgsm = criterion(outputs_fgsm, labels)\n",
    "\n",
    "            # 원본 손실과 FGSM 손실 결합\n",
    "            total_loss = 0.5 * loss + 0.5 * loss_fgsm\n",
    "\n",
    "            # 최종 손실로 역전파 및 최적화\n",
    "            optimizer.zero_grad()\n",
    "            total_loss.backward()\n",
    "            optimizer.step()\n",
    "        \n",
    "        print(f\"Epoch [{epoch+1}/{epochs}], Loss: {total_loss.item():.4f}\")\n",
    "\n",
    "fgsm_train_model(model_fgsm, train_loader, criterion, optimizer_fgsm, epochs=20)"
   ]
  },
  {
   "cell_type": "code",
   "execution_count": 25,
   "metadata": {},
   "outputs": [],
   "source": [
    "def test_with_fgsm(model, test_loader, epsilon):\n",
    "    correct = 0\n",
    "    adv_examples = []\n",
    "\n",
    "    model.eval()\n",
    "    for data, target in test_loader:\n",
    "        data, target = data.to(device), target.to(device)\n",
    "        data.requires_grad = True\n",
    "\n",
    "        # 원본 데이터로 예측\n",
    "        output = model(data)\n",
    "        init_pred = output.max(1, keepdim=True)[1]  # 가장 높은 확률의 클래스\n",
    "\n",
    "        if init_pred.item() != target.item():\n",
    "            continue\n",
    "\n",
    "        # 손실 계산 후 그래디언트 계산\n",
    "        loss = criterion(output, target)\n",
    "        model.zero_grad()\n",
    "        loss.backward()\n",
    "        data_grad = data.grad.data\n",
    "\n",
    "        # FGSM으로 적대적 샘플 생성\n",
    "        perturbed_data = fgsm_attack(data, epsilon, data_grad)\n",
    "\n",
    "        # 적대적 샘플로 예측\n",
    "        output = model(perturbed_data)\n",
    "        final_pred = output.max(1, keepdim=True)[1]\n",
    "\n",
    "        if final_pred.item() == target.item():\n",
    "            correct += 1\n",
    "        else:\n",
    "            # 적대적 샘플 저장\n",
    "            if len(adv_examples) < 5:\n",
    "                adv_ex = perturbed_data.squeeze().detach().cpu().numpy()\n",
    "                adv_examples.append((init_pred.item(), final_pred.item(), adv_ex))\n",
    "\n",
    "    final_acc = correct / float(len(test_loader))\n",
    "    print(f\"Epsilon: {epsilon}\\tTest Accuracy = {final_acc:.4f}\")\n",
    "    return final_acc, adv_examples"
   ]
  },
  {
   "cell_type": "code",
   "execution_count": 26,
   "metadata": {},
   "outputs": [
    {
     "name": "stdout",
     "output_type": "stream",
     "text": [
      "Epsilon: 0\tTest Accuracy = 0.9907\n",
      "Epsilon: 0.05\tTest Accuracy = 0.9492\n",
      "Epsilon: 0.1\tTest Accuracy = 0.8491\n",
      "Epsilon: 0.2\tTest Accuracy = 0.5615\n",
      "Epsilon: 0.3\tTest Accuracy = 0.2834\n",
      "== fgsm robustness training ==\n",
      "Epsilon: 0\tTest Accuracy = 0.9898\n",
      "Epsilon: 0.05\tTest Accuracy = 0.9728\n",
      "Epsilon: 0.1\tTest Accuracy = 0.9656\n",
      "Epsilon: 0.2\tTest Accuracy = 0.9775\n",
      "Epsilon: 0.3\tTest Accuracy = 0.9802\n"
     ]
    }
   ],
   "source": [
    "# 다양한 epsilon 값으로 실험\n",
    "epsilons = [0, 0.05, 0.1, 0.2, 0.3]\n",
    "accuracies = []\n",
    "examples = []\n",
    "\n",
    "for eps in epsilons:\n",
    "    acc, ex = test_with_fgsm(model, test_loader, eps)\n",
    "    accuracies.append(acc)\n",
    "    examples.append(ex)\n",
    "\n",
    "print(\"== fgsm robustness training ==\")\n",
    "accuracies_fgsm = []\n",
    "examples_fgsm = []\n",
    "for eps in epsilons:\n",
    "    acc, ex = test_with_fgsm(model_fgsm, test_loader, eps)\n",
    "    accuracies_fgsm.append(acc)\n",
    "    examples_fgsm.append(ex)"
   ]
  },
  {
   "cell_type": "code",
   "execution_count": 27,
   "metadata": {},
   "outputs": [
    {
     "data": {
      "image/png": "[encoded data removed]",
      "text/plain": [
       "<Figure size 1000x500 with 1 Axes>"
      ]
     },
     "metadata": {},
     "output_type": "display_data"
    },
    {
     "data": {
      "image/png": "[encoded data removed]",
      "text/plain": [
       "<Figure size 1000x500 with 5 Axes>"
      ]
     },
     "metadata": {},
     "output_type": "display_data"
    }
   ],
   "source": [
    "# 결과 시각화\n",
    "plt.figure(figsize=(10, 5))\n",
    "plt.plot(epsilons, accuracies, marker=\"o\", color='b', label='normal')\n",
    "plt.plot(epsilons, accuracies_fgsm, marker=\"o\", color='r', label='fgsm')\n",
    "plt.title(\"Accuracy vs Epsilon normal\")\n",
    "plt.xlabel(\"Epsilon\")\n",
    "plt.ylabel(\"Accuracy\")\n",
    "plt.legend()\n",
    "plt.show()\n",
    "\n",
    "# 적대적 샘플 시각화\n",
    "plt.figure(figsize=(10, 5))\n",
    "for i, (orig, adv, ex) in enumerate(examples[1]):\n",
    "    plt.subplot(1, 5, i+1)\n",
    "    plt.title(f\"Orig: {orig}\\nAdv: {adv}\")\n",
    "    plt.imshow(ex, cmap=\"gray\")\n",
    "    plt.axis(\"off\")\n",
    "plt.tight_layout()\n",
    "plt.show()"
   ]
  }
 ],
 "metadata": {
  "kernelspec": {
   "display_name": "seg",
   "language": "python",
   "name": "python3"
  },
  "language_info": {
   "codemirror_mode": {
    "name": "ipython",
    "version": 3
   },
   "file_extension": ".py",
   "mimetype": "text/x-python",
   "name": "python",
   "nbconvert_exporter": "python",
   "pygments_lexer": "ipython3",
   "version": "3.11.4"
  }
 },
 "nbformat": 4,
 "nbformat_minor": 2
}
